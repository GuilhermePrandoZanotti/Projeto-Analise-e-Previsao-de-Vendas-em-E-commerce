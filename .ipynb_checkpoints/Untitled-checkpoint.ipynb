{
 "cells": [
  {
   "cell_type": "code",
   "execution_count": 104,
   "id": "57f58723-3680-47e9-bb74-850653b622d4",
   "metadata": {},
   "outputs": [],
   "source": [
    "import pandas as pd"
   ]
  },
  {
   "cell_type": "code",
   "execution_count": 106,
   "id": "eb678bdd-b631-46dd-b4ea-4c9154eeaf9f",
   "metadata": {},
   "outputs": [],
   "source": [
    "clientes = pd.read_csv(\"data/raw/olist_customers_dataset.csv\")\n",
    "geolocal = pd.read_csv(\"data/raw/olist_geolocation_dataset.csv\")\n",
    "itens = pd.read_csv(\"data/raw/olist_order_items_dataset.csv\")\n",
    "pagamentos = pd.read_csv(\"data/raw/olist_order_payments_dataset.csv\")\n",
    "reviews = pd.read_csv(\"data/raw/olist_order_reviews_dataset.csv\")\n",
    "ordens = pd.read_csv(\"data/raw/olist_orders_dataset.csv\")\n",
    "produtos = pd.read_csv (\"data/raw/olist_products_dataset.csv\")\n",
    "vendedores = pd.read_csv(\"data/raw/olist_sellers_dataset.csv\")\n",
    "traducao = pd.read_csv(\"data/raw/product_category_name_translation.csv\")"
   ]
  },
  {
   "cell_type": "code",
   "execution_count": null,
   "id": "c4261f04-ffc4-44c0-97c4-8e1375e8c2cb",
   "metadata": {},
   "outputs": [],
   "source": []
  },
  {
   "cell_type": "code",
   "execution_count": null,
   "id": "f2df58f6-d69f-420d-9564-209bf6463ac5",
   "metadata": {},
   "outputs": [],
   "source": []
  },
  {
   "cell_type": "raw",
   "id": "ee8c666c-153e-4859-810c-3825054cb13c",
   "metadata": {},
   "source": []
  },
  {
   "cell_type": "code",
   "execution_count": null,
   "id": "683d59d3-a46f-417d-a660-e127ce65b67f",
   "metadata": {},
   "outputs": [],
   "source": []
  },
  {
   "cell_type": "code",
   "execution_count": null,
   "id": "b643ae08-471f-4cbb-b064-a56ccb873e1d",
   "metadata": {},
   "outputs": [],
   "source": []
  }
 ],
 "metadata": {
  "kernelspec": {
   "display_name": "Python [conda env:base] *",
   "language": "python",
   "name": "conda-base-py"
  },
  "language_info": {
   "codemirror_mode": {
    "name": "ipython",
    "version": 3
   },
   "file_extension": ".py",
   "mimetype": "text/x-python",
   "name": "python",
   "nbconvert_exporter": "python",
   "pygments_lexer": "ipython3",
   "version": "3.12.7"
  }
 },
 "nbformat": 4,
 "nbformat_minor": 5
}
